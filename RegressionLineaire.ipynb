import numpy as np
import matplotlib.pyplot as plt
from sklearn.datasets import make_regression # générer un nuage de point 
from sklearn.linear_model import SGDRegressor # fonction cout, algo...


np.random.seed(0)
x,y=make_regression(n_samples=100, n_features=1,noise=10)
plt.scatter(x,y)

# entrainement 
model = SGDRegressor(max_iter=1000, eta0=0.001) 
model.fit(x,y) 

# la fonction score qui calcule le coefficient de détermination
print('Coeff R2 =', model.score(x, y)) 

#On peut aussi utiliser notre modèle pour faire de nouvelles prédictions
#avec la fonction predict et tracer ces résultats avec la fonction
plt.plot(x, model.predict(x), c='red', lw = 3)
